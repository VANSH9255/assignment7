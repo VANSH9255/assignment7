{
  "cells": [
    {
      "cell_type": "code",
      "execution_count": null,
      "metadata": {
        "id": "Y2lmJcG85nF9",
        "vscode": {
          "languageId": "plaintext"
        }
      },
      "outputs": [],
      "source": [
        "## 1. Discuss the scenarios where multithreading is preferable to multiprocessing and scenarios where multiprocessing is a better choice."
      ]
    },
    {
      "cell_type": "code",
      "execution_count": null,
      "metadata": {
        "id": "PSLsJHQV6vsN",
        "vscode": {
          "languageId": "plaintext"
        }
      },
      "outputs": [],
      "source": [
        "***When to Prefer Multithreading:***/n\n",
        "I/O-bound Tasks: Multithreading is ideal for tasks that spend a lot of time waiting for I/O operations (like file reads/writes, network requests, or database queries). Threads can be paused while waiting, allowing other threads to execute, which improves resource utilization.\n",
        "\n",
        "Shared Memory Access: If threads need to share a lot of data or maintain state, multithreading is more efficient since threads share the same memory space. This makes communication and data sharing between threads faster than between processes.\n",
        "\n",
        "Lightweight Tasks: If tasks are relatively lightweight and require minimal CPU cycles, the overhead of creating and managing multiple processes may outweigh the benefits. Threads are lighter in terms of memory and resource consumption.\n",
        "\n",
        "Responsive User Interfaces: In GUI applications, multithreading allows the main thread to remain responsive while performing background tasks (like loading data), preventing the application from freezing.\n",
        "\n",
        "**When to Prefer Multiprocessing:**\n",
        "CPU-bound Tasks: For tasks that require heavy computation (like data processing, mathematical calculations, or image processing), multiprocessing is preferred. Each process can run on a separate CPU core, allowing full utilization of multi-core systems.\n",
        "\n",
        "Isolation: Processes run in separate memory spaces, so a crash in one process won't affect others. This isolation is beneficial for fault tolerance and security.\n",
        "\n",
        "lobal Interpreter Lock (GIL) Limitation: In languages like Python, the GIL can limit the performance of CPU-bound threads. Multiprocessing can bypass this limitation since each process has its own Python interpreter and memory space.\n",
        "\n",
        "Heavy Resource Requirements: If tasks require a lot of memory or other\n"
      ]
    },
    {
      "cell_type": "code",
      "execution_count": null,
      "metadata": {
        "id": "mnuv1BXn7hsm",
        "vscode": {
          "languageId": "plaintext"
        }
      },
      "outputs": [],
      "source": [
        "2. Describe what a process pool is and how it helps in managing multiple processes efficiently."
      ]
    },
    {
      "cell_type": "code",
      "execution_count": null,
      "metadata": {
        "id": "admrx3O08QHt",
        "vscode": {
          "languageId": "plaintext"
        }
      },
      "outputs": [],
      "source": [
        "A process pool is a collection of pre-initialized processes that can be used to execute tasks concurrently. Instead of creating and destroying processes for each task, a process pool maintains a set of worker processes that are ready to handle incoming tasks. This approach helps manage multiple processes efficiently in several ways:\n",
        "\n",
        "**Key Features of a Process Pool:**\n",
        "Reusability: By reusing existing processes, a process pool reduces the overhead associated with process creation and destruction. This is particularly beneficial for scenarios where tasks are frequently created and destroyed.\n",
        "\n",
        "Load Balancing: The pool can distribute tasks among available worker processes, allowing for more balanced resource utilization. As tasks are submitted, they are assigned to idle processes, optimizing throughput.\n",
        "\n",
        "Limit Resource Usage: A process pool can limit the number of concurrent processes, helping to manage system resources and prevent overload. This is useful in environments where resource constraints (like CPU or memory) need to be managed carefully.\n",
        "\n",
        "Simplified Management: Using a process pool abstracts away the complexity of process management. Developers can focus on submitting tasks without worrying about the underlying mechanics of process creation, monitoring, and cleanup.\n",
        "\n",
        "Improved Performance: For CPU-bound tasks, a process pool can maximize CPU utilization by allowing multiple processes to run in parallel across multiple cores, enhancing overall performance.\n",
        "\n",
        "**How It Works:**\n",
        "Initialization: A fixed number of worker processes are created and initialized at the start.\n",
        "\n",
        "Task Submission: When a new task is submitted to the pool, it checks for an available worker process. If one is available, it assigns the task to that process.\n",
        "\n",
        "Execution: The worker processes execute the assigned tasks. While a worker is busy, other tasks wait for the next available worker.\n",
        "\n",
        "Result Handling: After a task is completed, the result can be retrieved, and the worker process becomes available for new tasks.\n",
        "\n",
        "Termination: When the work is done, the process pool can be cleanly shut down, terminating all worker processes without needing to manage individual process lifecycles."
      ]
    },
    {
      "cell_type": "code",
      "execution_count": null,
      "metadata": {
        "id": "PeuuEYgt84jW",
        "vscode": {
          "languageId": "plaintext"
        }
      },
      "outputs": [],
      "source": [
        "3. Explain what multiprocessing is and why it is used in Python programs"
      ]
    },
    {
      "cell_type": "code",
      "execution_count": null,
      "metadata": {
        "id": "BmmRuPDI8_6N",
        "vscode": {
          "languageId": "plaintext"
        }
      },
      "outputs": [],
      "source": [
        "Multiprocessing is a programming paradigm that allows the concurrent execution of multiple processes. In Python, the multiprocessing module facilitates the creation and management of separate processes, each running in its own memory space. This approach is particularly valuable in scenarios where performance and efficiency are critical.\n",
        "\n",
        "**Key Features of Multiprocessing:**\n",
        "Parallel Execution: Unlike multithreading, which runs threads within a single process and is subject to the Global Interpreter Lock (GIL), multiprocessing allows multiple processes to run in parallel on separate CPU cores. This is especially beneficial for CPU-bound tasks.\n",
        "\n",
        "Isolation: Each process has its own memory space, which provides isolation. This means that if one process crashes, it does not affect others, making programs more robust and fault-tolerant.\n",
        "\n",
        "Improved Performance: Multiprocessing can significantly speed up applications that require intensive computation, as it can leverage multi-core processors effectively.\n",
        "\n",
        "Data Sharing: The multiprocessing module provides mechanisms (like queues and shared memory) for processes to communicate and share data, enabling coordination between them.\n",
        "\n",
        "** Use Multiprocessing in Python:**\n",
        "Overcoming the GIL: In CPython, the GIL allows only one thread to execute at a time in a single process. This limits the performance of CPU-bound applications when using multithreading. Multiprocessing bypasses this limitation by allowing true parallelism.\n",
        "\n",
        "Utilizing Multi-core Processors: Most modern computers have multi-core processors, and multiprocessing helps fully utilize these cores by distributing tasks among multiple processes.\n",
        "\n",
        "Efficient Resource Management: Multiprocessing enables better management of CPU and memory resources by isolating tasks, leading to more predictable performance.\n",
        "\n",
        "Scalability: Applications can scale more easily by adding more processes as needed, accommodating increased workload or computational demands.\n",
        "\n",
        "Handling Heavy Computation: For tasks like data analysis, image processing, or scientific computations, multiprocessing allows for distributing the workload across processes, improving execution time."
      ]
    },
    {
      "cell_type": "code",
      "execution_count": null,
      "metadata": {
        "id": "1fqXkYkD9NzV",
        "vscode": {
          "languageId": "plaintext"
        }
      },
      "outputs": [],
      "source": [
        "4. Write a Python program using multithreading where one thread adds numbers to a list, and another\n",
        "thread removes numbers from the list. Implement a mechanism to avoid race conditions using\n",
        "threading.Lock"
      ]
    },
    {
      "cell_type": "code",
      "execution_count": 1,
      "metadata": {
        "colab": {
          "base_uri": "https://localhost:8080/"
        },
        "id": "ZD-V5zAO9fWN",
        "outputId": "2323e2d5-f3c3-45d2-96c5-192709fcf07a"
      },
      "outputs": [
        {
          "name": "stdout",
          "output_type": "stream",
          "text": [
            "Added: 0\n",
            "List after adding: [0]\n",
            "Removed: 0\n",
            "List after removing: []\n",
            "Added: 1\n",
            "List after adding: [1]\n",
            "Added: 2\n",
            "List after adding: [1, 2]\n",
            "Removed: 1\n",
            "List after removing: [2]\n",
            "Added: 3\n",
            "List after adding: [2, 3]\n",
            "Removed: 2\n",
            "List after removing: [3]\n",
            "Added: 4\n",
            "List after adding: [3, 4]\n",
            "Removed: 3\n",
            "List after removing: [4]\n",
            "Added: 5\n",
            "List after adding: [4, 5]\n",
            "Removed: 4\n",
            "List after removing: [5]\n",
            "Added: 6\n",
            "List after adding: [5, 6]\n",
            "Removed: 5\n",
            "List after removing: [6]\n",
            "Added: 7\n",
            "List after adding: [6, 7]\n",
            "Removed: 6\n",
            "List after removing: [7]\n",
            "Added: 8\n",
            "List after adding: [7, 8]\n",
            "Removed: 7\n",
            "List after removing: [8]\n",
            "Added: 9\n",
            "List after adding: [8, 9]\n",
            "Removed: 8\n",
            "List after removing: [9]\n",
            "Removed: 9\n",
            "List after removing: []\n",
            "Final list: []\n"
          ]
        }
      ],
      "source": [
        "import threading\n",
        "import time\n",
        "import random\n",
        "\n",
        "# Shared resource\n",
        "shared_list = []\n",
        "# Lock for synchronizing access to the shared resource\n",
        "lock = threading.Lock()\n",
        "\n",
        "def add_numbers():\n",
        "    for i in range(10):\n",
        "        time.sleep(random.uniform(0.1, 0.5))  # Simulate work\n",
        "        with lock:  # Acquire the lock before modifying the list\n",
        "            shared_list.append(i)\n",
        "            print(f\"Added: {i}\")\n",
        "            print(f\"List after adding: {shared_list}\")\n",
        "\n",
        "def remove_numbers():\n",
        "    for _ in range(10):\n",
        "        time.sleep(random.uniform(0.1, 0.5))  # Simulate work\n",
        "        with lock:  # Acquire the lock before modifying the list\n",
        "            if shared_list:\n",
        "                removed_value = shared_list.pop(0)  # Remove the first element\n",
        "                print(f\"Removed: {removed_value}\")\n",
        "                print(f\"List after removing: {shared_list}\")\n",
        "\n",
        "# Create threads\n",
        "adder_thread = threading.Thread(target=add_numbers)\n",
        "remover_thread = threading.Thread(target=remove_numbers)\n",
        "\n",
        "# Start threads\n",
        "adder_thread.start()\n",
        "remover_thread.start()\n",
        "\n",
        "# Wait for both threads to finish\n",
        "adder_thread.join()\n",
        "remover_thread.join()\n",
        "\n",
        "print(\"Final list:\", shared_list)\n"
      ]
    },
    {
      "cell_type": "code",
      "execution_count": null,
      "metadata": {
        "id": "8iO9ITN_9q7k",
        "vscode": {
          "languageId": "plaintext"
        }
      },
      "outputs": [],
      "source": [
        "5. Describe the methods and tools available in Python for safely sharing data between threads and\n",
        "processes."
      ]
    },
    {
      "cell_type": "code",
      "execution_count": null,
      "metadata": {
        "id": "QAjtOoYg9wnF",
        "vscode": {
          "languageId": "plaintext"
        }
      },
      "outputs": [],
      "source": [
        "In Python, safely sharing data between threads and processes is crucial for ensuring data integrity and avoiding race conditions. Here are some methods and tools available for this purpose:\n",
        "\n",
        "1. Threading Module\n",
        "a. Locks\n",
        "threading.Lock: A basic synchronization primitive that can be used to ensure that only one thread accesses a shared resource at a time. It can be acquired and released to control access.\n",
        "b. RLocks\n",
        "threading.RLock: A reentrant lock that allows a thread to acquire the lock multiple times without causing a deadlock. Useful in scenarios where the same thread might need to enter a critical section multiple times.\n",
        "c. Condition Variables\n",
        "threading.Condition: Allows threads to wait for certain conditions to be met. Threads can notify others when a condition changes, enabling more complex thread interactions.\n",
        "d. Semaphores\n",
        "threading.Semaphore: Controls access to a shared resource with a fixed number of permits. Useful for limiting the number of threads that can access a resource simultaneously.\n",
        "e. Event\n",
        "threading.Event: A simple way for one thread to signal an event to one or more waiting threads. It’s useful for coordinating thread execution.\n",
        "2. Multiprocessing Module\n",
        "a. Value and Array\n",
        "multiprocessing.Value and multiprocessing.Array: These constructs allow sharing of simple data types and arrays between processes in a safe manner. They use synchronization to ensure consistency.\n",
        "b. Queues\n",
        "multiprocessing.Queue: A FIFO queue that can be safely shared between processes. It is thread-safe and allows processes to send and receive data without direct sharing of memory.\n",
        "c. Pipes\n",
        "multiprocessing.Pipe: Provides a way for two processes to communicate. It creates a pair of connection objects which can be used to send data between processes.\n",
        "d. Manager\n",
        "multiprocessing.Manager: Provides a way to create shared objects (like lists, dictionaries, etc.) that can be accessed by multiple processes. It manages the underlying synchronization and data sharing.\n",
        "3. Thread-safe Collections\n",
        "Python’s queue module provides thread-safe implementations of queues, which can be used for communication between threads:\n",
        "\n",
        "queue.Queue: A FIFO queue that is thread-safe and can be used to pass messages between threads.\n",
        "4. Immutable Data Structures\n",
        "Using immutable data types (like tuples and strings) can also simplify sharing between threads and processes, as they cannot be modified after creation, thus avoiding issues related to concurrent modifications."
      ]
    },
    {
      "cell_type": "code",
      "execution_count": null,
      "metadata": {
        "id": "QT2POwIF-I0d",
        "vscode": {
          "languageId": "plaintext"
        }
      },
      "outputs": [],
      "source": [
        "6. Discuss why it’s crucial to handle exceptions in concurrent programs and the techniques available for\n",
        "doing so."
      ]
    },
    {
      "cell_type": "code",
      "execution_count": null,
      "metadata": {
        "id": "aVexR-JU-Bzs",
        "vscode": {
          "languageId": "plaintext"
        }
      },
      "outputs": [],
      "source": [
        "Handling exceptions in concurrent programs is crucial for several reasons:\n",
        "\n",
        "Importance of Exception Handling in Concurrent Programs\n",
        "Preventing Application Crashes: An unhandled exception in a thread or process can lead to the termination of that thread or process, potentially causing the entire application to crash. Proper exception handling ensures that failures are managed gracefully.\n",
        "\n",
        "Resource Management: Concurrent programs often manage shared resources (like memory, file handles, or network connections). If an exception occurs and is not handled, it can leave resources in an inconsistent state, leading to memory leaks or deadlocks.\n",
        "\n",
        "Debugging and Logging: Exception handling allows developers to log errors and debugging information. This is vital in concurrent environments where tracking down the source of an error can be complex due to the interactions between threads or processes.\n",
        "\n",
        "Maintaining Consistency: When exceptions occur, especially during critical operations, handling them appropriately ensures that the program maintains a consistent state, preventing partial updates or corruption.\n",
        "\n",
        "Graceful Shutdown: Handling exceptions allows for clean-up operations and graceful shutdown procedures, which can be essential for applications that require a stable exit.\n",
        "\n",
        "Techniques for Handling Exceptions in Concurrent Programs\n",
        "1.Try-Except Blocks: The most common way to handle exceptions is to wrap potentially problematic code in try-except blocks. This allows you to catch exceptions as they occur and handle them accordingly.\n",
        "2.Threading Exception Handling: In Python's threading module, each thread runs its own separate execution context. You can catch exceptions in a thread by wrapping the thread's target function in a try-except block.\n",
        "\n"
      ]
    },
    {
      "cell_type": "code",
      "execution_count": null,
      "metadata": {
        "id": "OpXE6seT-h7s",
        "vscode": {
          "languageId": "plaintext"
        }
      },
      "outputs": [],
      "source": [
        "7. Create a program that uses a thread pool to calculate the factorial of numbers from 1 to 10 concurrently.\n",
        "Use concurrent.futures.ThreadPoolExecutor to manage the threads.\n",
        "\n",
        "\n"
      ]
    },
    {
      "cell_type": "code",
      "execution_count": 2,
      "metadata": {
        "colab": {
          "base_uri": "https://localhost:8080/"
        },
        "id": "T2xWDxtu-tG9",
        "outputId": "6547ab99-ec4f-4e3a-da28-2727e7808f7e"
      },
      "outputs": [
        {
          "name": "stdout",
          "output_type": "stream",
          "text": [
            "Factorial of 8 is 40320\n",
            "Factorial of 1 is 1\n",
            "Factorial of 6 is 720\n",
            "Factorial of 4 is 24\n",
            "Factorial of 7 is 5040\n",
            "Factorial of 10 is 3628800\n",
            "Factorial of 3 is 6\n",
            "Factorial of 9 is 362880\n",
            "Factorial of 2 is 2\n",
            "Factorial of 5 is 120\n"
          ]
        }
      ],
      "source": [
        "import concurrent.futures\n",
        "import math\n",
        "\n",
        "# Function to calculate factorial\n",
        "def calculate_factorial(n):\n",
        "    return math.factorial(n)\n",
        "\n",
        "def main():\n",
        "    # List of numbers to calculate the factorial for\n",
        "    numbers = list(range(1, 11))\n",
        "\n",
        "    # Using ThreadPoolExecutor to manage the threads\n",
        "    with concurrent.futures.ThreadPoolExecutor() as executor:\n",
        "        # Submit tasks to the executor\n",
        "        futures = {executor.submit(calculate_factorial, num): num for num in numbers}\n",
        "\n",
        "        # Retrieve results as they complete\n",
        "        for future in concurrent.futures.as_completed(futures):\n",
        "            num = futures[future]\n",
        "            try:\n",
        "                result = future.result()  # Get the result of the future\n",
        "                print(f\"Factorial of {num} is {result}\")\n",
        "            except Exception as e:\n",
        "                print(f\"Error calculating factorial for {num}: {e}\")\n",
        "\n",
        "if __name__ == \"__main__\":\n",
        "    main()"
      ]
    },
    {
      "cell_type": "code",
      "execution_count": null,
      "metadata": {
        "id": "74F5I9dF-zb0",
        "vscode": {
          "languageId": "plaintext"
        }
      },
      "outputs": [],
      "source": [
        "8. Create a Python program that uses multiprocessing.Pool to compute the square of numbers from 1 to 10 in\n",
        "parallel. Measure the time taken to perform this computation using a pool of different sizes (e.g., 2, 4, 8\n",
        "processes"
      ]
    },
    {
      "cell_type": "code",
      "execution_count": 4,
      "metadata": {
        "colab": {
          "base_uri": "https://localhost:8080/"
        },
        "id": "jjDH1_CC_AQt",
        "outputId": "cb931402-e03b-4815-8c35-aeb978e8e63c"
      },
      "outputs": [
        {
          "name": "stdout",
          "output_type": "stream",
          "text": [
            "Pool size: 2, Squares: [1, 4, 9, 16, 25, 36, 49, 64, 81, 100], Time taken: 0.0024 seconds\n",
            "Pool size: 4, Squares: [1, 4, 9, 16, 25, 36, 49, 64, 81, 100], Time taken: 0.0023 seconds\n",
            "Pool size: 8, Squares: [1, 4, 9, 16, 25, 36, 49, 64, 81, 100], Time taken: 0.0021 seconds\n"
          ]
        }
      ],
      "source": [
        "import multiprocessing\n",
        "import time\n",
        "\n",
        "# Function to compute the square of a number\n",
        "def square(n):\n",
        "    return n * n\n",
        "\n",
        "def compute_squares(pool_size):\n",
        "    numbers = list(range(1, 11))  # Numbers from 1 to 10\n",
        "\n",
        "    # Create a Pool of worker processes\n",
        "    with multiprocessing.Pool(processes=pool_size) as pool:\n",
        "        start_time = time.time()  # Start timing\n",
        "        results = pool.map(square, numbers)  # Compute squares in parallel\n",
        "        end_time = time.time()  # End timing\n",
        "\n",
        "    return results, end_time - start_time\n",
        "\n",
        "def main():\n",
        "    for pool_size in [2, 4, 8]:\n",
        "        results, duration = compute_squares(pool_size)\n",
        "        print(f\"Pool size: {pool_size}, Squares: {results}, Time taken: {duration:.4f} seconds\")\n",
        "\n",
        "if __name__ == \"__main__\":\n",
        "    main()"
      ]
    }
  ],
  "metadata": {
    "colab": {
      "provenance": []
    },
    "kernelspec": {
      "display_name": "Python 3",
      "name": "python3"
    },
    "language_info": {
      "name": "python"
    }
  },
  "nbformat": 4,
  "nbformat_minor": 0
}
